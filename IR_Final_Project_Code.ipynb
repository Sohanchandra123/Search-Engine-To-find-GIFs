{
  "cells": [
    {
      "cell_type": "markdown",
      "metadata": {
        "id": "view-in-github",
        "colab_type": "text"
      },
      "source": [
        "<a href=\"https://colab.research.google.com/github/Sohanchandra123/Search-Engine-To-find-GIFs/blob/main/IR_Final_Project_Code.ipynb\" target=\"_parent\"><img src=\"https://colab.research.google.com/assets/colab-badge.svg\" alt=\"Open In Colab\"/></a>"
      ]
    },
    {
      "cell_type": "code",
      "execution_count": null,
      "metadata": {
        "colab": {
          "base_uri": "https://localhost:8080/"
        },
        "id": "sNp3jHbMFM_8",
        "outputId": "f89c9a16-610e-4120-f1cf-c930ca59ebd4"
      },
      "outputs": [
        {
          "name": "stdout",
          "output_type": "stream",
          "text": [
            "Looking in indexes: https://pypi.org/simple, https://us-python.pkg.dev/colab-wheels/public/simple/\n",
            "Requirement already satisfied: pandas in /usr/local/lib/python3.9/dist-packages (2.0.1)\n",
            "Requirement already satisfied: pinecone-client in /usr/local/lib/python3.9/dist-packages (2.2.1)\n",
            "Requirement already satisfied: sentence-transformers in /usr/local/lib/python3.9/dist-packages (2.2.2)\n",
            "Requirement already satisfied: tqdm in /usr/local/lib/python3.9/dist-packages (4.65.0)\n",
            "Requirement already satisfied: numpy>=1.20.3 in /usr/local/lib/python3.9/dist-packages (from pandas) (1.22.4)\n",
            "Requirement already satisfied: pytz>=2020.1 in /usr/local/lib/python3.9/dist-packages (from pandas) (2022.7.1)\n",
            "Requirement already satisfied: tzdata>=2022.1 in /usr/local/lib/python3.9/dist-packages (from pandas) (2023.3)\n",
            "Requirement already satisfied: python-dateutil>=2.8.2 in /usr/local/lib/python3.9/dist-packages (from pandas) (2.8.2)\n",
            "Requirement already satisfied: pyyaml>=5.4 in /usr/local/lib/python3.9/dist-packages (from pinecone-client) (6.0)\n",
            "Requirement already satisfied: loguru>=0.5.0 in /usr/local/lib/python3.9/dist-packages (from pinecone-client) (0.7.0)\n",
            "Requirement already satisfied: urllib3>=1.21.1 in /usr/local/lib/python3.9/dist-packages (from pinecone-client) (1.26.15)\n",
            "Requirement already satisfied: requests>=2.19.0 in /usr/local/lib/python3.9/dist-packages (from pinecone-client) (2.27.1)\n",
            "Requirement already satisfied: typing-extensions>=3.7.4 in /usr/local/lib/python3.9/dist-packages (from pinecone-client) (4.5.0)\n",
            "Requirement already satisfied: dnspython>=2.0.0 in /usr/local/lib/python3.9/dist-packages (from pinecone-client) (2.3.0)\n",
            "Requirement already satisfied: scikit-learn in /usr/local/lib/python3.9/dist-packages (from sentence-transformers) (1.2.2)\n",
            "Requirement already satisfied: scipy in /usr/local/lib/python3.9/dist-packages (from sentence-transformers) (1.10.1)\n",
            "Requirement already satisfied: sentencepiece in /usr/local/lib/python3.9/dist-packages (from sentence-transformers) (0.1.99)\n",
            "Requirement already satisfied: transformers<5.0.0,>=4.6.0 in /usr/local/lib/python3.9/dist-packages (from sentence-transformers) (4.29.1)\n",
            "Requirement already satisfied: torchvision in /usr/local/lib/python3.9/dist-packages (from sentence-transformers) (0.15.1+cu118)\n",
            "Requirement already satisfied: torch>=1.6.0 in /usr/local/lib/python3.9/dist-packages (from sentence-transformers) (2.0.0+cu118)\n",
            "Requirement already satisfied: nltk in /usr/local/lib/python3.9/dist-packages (from sentence-transformers) (3.8.1)\n",
            "Requirement already satisfied: huggingface-hub>=0.4.0 in /usr/local/lib/python3.9/dist-packages (from sentence-transformers) (0.14.1)\n",
            "Requirement already satisfied: fsspec in /usr/local/lib/python3.9/dist-packages (from huggingface-hub>=0.4.0->sentence-transformers) (2023.4.0)\n",
            "Requirement already satisfied: packaging>=20.9 in /usr/local/lib/python3.9/dist-packages (from huggingface-hub>=0.4.0->sentence-transformers) (23.1)\n",
            "Requirement already satisfied: filelock in /usr/local/lib/python3.9/dist-packages (from huggingface-hub>=0.4.0->sentence-transformers) (3.11.0)\n",
            "Requirement already satisfied: six>=1.5 in /usr/local/lib/python3.9/dist-packages (from python-dateutil>=2.8.2->pandas) (1.16.0)\n",
            "Requirement already satisfied: charset-normalizer~=2.0.0 in /usr/local/lib/python3.9/dist-packages (from requests>=2.19.0->pinecone-client) (2.0.12)\n",
            "Requirement already satisfied: certifi>=2017.4.17 in /usr/local/lib/python3.9/dist-packages (from requests>=2.19.0->pinecone-client) (2022.12.7)\n",
            "Requirement already satisfied: idna<4,>=2.5 in /usr/local/lib/python3.9/dist-packages (from requests>=2.19.0->pinecone-client) (3.4)\n",
            "Requirement already satisfied: sympy in /usr/local/lib/python3.9/dist-packages (from torch>=1.6.0->sentence-transformers) (1.11.1)\n",
            "Requirement already satisfied: triton==2.0.0 in /usr/local/lib/python3.9/dist-packages (from torch>=1.6.0->sentence-transformers) (2.0.0)\n",
            "Requirement already satisfied: networkx in /usr/local/lib/python3.9/dist-packages (from torch>=1.6.0->sentence-transformers) (3.1)\n",
            "Requirement already satisfied: jinja2 in /usr/local/lib/python3.9/dist-packages (from torch>=1.6.0->sentence-transformers) (3.1.2)\n",
            "Requirement already satisfied: lit in /usr/local/lib/python3.9/dist-packages (from triton==2.0.0->torch>=1.6.0->sentence-transformers) (16.0.1)\n",
            "Requirement already satisfied: cmake in /usr/local/lib/python3.9/dist-packages (from triton==2.0.0->torch>=1.6.0->sentence-transformers) (3.25.2)\n",
            "Requirement already satisfied: regex!=2019.12.17 in /usr/local/lib/python3.9/dist-packages (from transformers<5.0.0,>=4.6.0->sentence-transformers) (2022.10.31)\n",
            "Requirement already satisfied: tokenizers!=0.11.3,<0.14,>=0.11.1 in /usr/local/lib/python3.9/dist-packages (from transformers<5.0.0,>=4.6.0->sentence-transformers) (0.13.3)\n",
            "Requirement already satisfied: click in /usr/local/lib/python3.9/dist-packages (from nltk->sentence-transformers) (8.1.3)\n",
            "Requirement already satisfied: joblib in /usr/local/lib/python3.9/dist-packages (from nltk->sentence-transformers) (1.2.0)\n",
            "Requirement already satisfied: threadpoolctl>=2.0.0 in /usr/local/lib/python3.9/dist-packages (from scikit-learn->sentence-transformers) (3.1.0)\n",
            "Requirement already satisfied: pillow!=8.3.*,>=5.3.0 in /usr/local/lib/python3.9/dist-packages (from torchvision->sentence-transformers) (8.4.0)\n",
            "Requirement already satisfied: MarkupSafe>=2.0 in /usr/local/lib/python3.9/dist-packages (from jinja2->torch>=1.6.0->sentence-transformers) (2.1.2)\n",
            "Requirement already satisfied: mpmath>=0.19 in /usr/local/lib/python3.9/dist-packages (from sympy->torch>=1.6.0->sentence-transformers) (1.3.0)\n"
          ]
        }
      ],
      "source": [
        "pip install -U pandas pinecone-client sentence-transformers tqdm"
      ]
    },
    {
      "cell_type": "code",
      "execution_count": null,
      "metadata": {
        "id": "SzlSyePNF1sQ"
      },
      "outputs": [],
      "source": [
        "import IPython.display as display\n",
        "from IPython.core.interactiveshell import InteractiveShell\n",
        "\n",
        "InteractiveShell.ast_node_interactivity = \"all\"\n"
      ]
    },
    {
      "cell_type": "code",
      "execution_count": null,
      "metadata": {
        "colab": {
          "base_uri": "https://localhost:8080/"
        },
        "id": "ZLr74V0EF3yv",
        "outputId": "efdfad5b-98da-4690-cd31-d676ba681c08"
      },
      "outputs": [
        {
          "name": "stdout",
          "output_type": "stream",
          "text": [
            "--2023-05-13 01:11:58--  https://github.com/raingo/TGIF-Release/archive/master.zip\n",
            "Resolving github.com (github.com)... 140.82.112.3\n",
            "Connecting to github.com (github.com)|140.82.112.3|:443... connected.\n",
            "HTTP request sent, awaiting response... 302 Found\n",
            "Location: https://codeload.github.com/raingo/TGIF-Release/zip/refs/heads/master [following]\n",
            "--2023-05-13 01:11:58--  https://codeload.github.com/raingo/TGIF-Release/zip/refs/heads/master\n",
            "Resolving codeload.github.com (codeload.github.com)... 140.82.113.10\n",
            "Connecting to codeload.github.com (codeload.github.com)|140.82.113.10|:443... connected.\n",
            "HTTP request sent, awaiting response... 200 OK\n",
            "Length: unspecified [application/zip]\n",
            "Saving to: ‘master.zip.1’\n",
            "\n",
            "master.zip.1            [    <=>             ]  11.82M  6.62MB/s    in 1.8s    \n",
            "\n",
            "2023-05-13 01:12:00 (6.62 MB/s) - ‘master.zip.1’ saved [12396861]\n",
            "\n"
          ]
        }
      ],
      "source": [
        "#To obtain the dataset\n",
        "!wget https://github.com/raingo/TGIF-Release/archive/master.zip"
      ]
    },
    {
      "cell_type": "code",
      "execution_count": null,
      "metadata": {
        "colab": {
          "background_save": true,
          "base_uri": "https://localhost:8080/"
        },
        "id": "BVE8nWSVGKZ4",
        "outputId": "e5533fe6-8613-43d5-9c5d-41dac86a78c5"
      },
      "outputs": [
        {
          "name": "stdout",
          "output_type": "stream",
          "text": [
            "Archive:  master.zip\n",
            "3e54d2f71418d8a2e9f5f61aa5be0edb9c0ac2b8\n",
            "replace TGIF-Release-master/.gitignore? [y]es, [n]o, [A]ll, [N]one, [r]ename: "
          ]
        }
      ],
      "source": [
        "!unzip master.zip"
      ]
    },
    {
      "cell_type": "code",
      "execution_count": null,
      "metadata": {
        "id": "KNfSymjeGdAS"
      },
      "outputs": [],
      "source": [
        "import pandas as pd\n",
        "\n",
        "#reading the file from the database\n",
        "file_path = \"./TGIF-Release-master/data/tgif-v1.0.tsv\"\n",
        "column_names = ['url', 'description']\n",
        "df = pd.read_csv(file_path, delimiter='\\t', names=column_names)\n",
        "\n",
        "# display the first five rows of the DataFrame\n",
        "print(df.head())\n"
      ]
    },
    {
      "cell_type": "code",
      "execution_count": null,
      "metadata": {
        "id": "gZlrhLdGGr01"
      },
      "outputs": [],
      "source": [
        "pip install pinecone-client"
      ]
    },
    {
      "cell_type": "code",
      "execution_count": null,
      "metadata": {
        "id": "8nAFm42VG_9l"
      },
      "outputs": [],
      "source": [
        "import pinecone\n",
        "\n",
        "# Connecting to Pinecone Database\n",
        "pinecone.init(api_key=\"c96881aa-8613-4a9c-b7c4-16608bf002cf\", environment=\"us-east1-gcp\")\n",
        "Index_name1 = 'gif-search'\n",
        "# Create index if it does not already exist\n",
        "if Index_name1 not in pinecone.list_indexes():\n",
        "    pinecone.create_index(Index_name1, dimension=384, metric=\"cosine\")\n",
        "# Connect to index\n",
        "index = pinecone.Index(Index_name1)\n"
      ]
    },
    {
      "cell_type": "code",
      "execution_count": null,
      "metadata": {
        "id": "fq43RgmaHta1"
      },
      "outputs": [],
      "source": [
        "from sentence_transformers import SentenceTransformer\n",
        "import torch\n",
        "\n",
        "device_type = 'cuda' if torch.cuda.is_available() else 'cpu'\n",
        "model1 = SentenceTransformer('sentence-transformers/all-MiniLM-L6-v2')\n",
        "model1.to(device_type)\n",
        "retriever1 = model1\n",
        "retriever1.to(device_type)"
      ]
    },
    {
      "cell_type": "code",
      "execution_count": null,
      "metadata": {
        "id": "MhjFDlMBI-I7"
      },
      "outputs": [],
      "source": [
        "from tqdm.auto import tqdm\n",
        "\n",
        "# Uses batches of 64\n",
        "batch_size = 64\n",
        "batch_groups = df.groupby(df.index // batch_size)\n",
        "\n",
        "for batch_idx, (_, batch) in tqdm(enumerate(batch_groups), total=len(df) // batch_size + 1):\n",
        "    emb1 = retriever1.encode(batch['description'].tolist()).tolist()\n",
        "    metadata = batch.to_dict(orient='records')\n",
        "    # Create IDs\n",
        "    id1 = [str(batch_idx * batch_size + idx) for idx in range(len(batch))]\n",
        "    records_to_upsert = list(zip(id1, emb1, metadata))\n",
        "    _ = index.upsert(vectors=records_to_upsert)\n",
        "\n",
        "# To Check if we have all vectors in the index\n",
        "index_stats = index.describe_index_stats()\n"
      ]
    },
    {
      "cell_type": "code",
      "execution_count": null,
      "metadata": {
        "id": "G4CyxxRiNSFt"
      },
      "outputs": [],
      "source": [
        "from sklearn.cluster import KMeans\n",
        "import numpy as np\n",
        "\n",
        "kmeans = KMeans(n_clusters=10, random_state=42).fit(emb1)\n",
        "labels = kmeans.labels_\n",
        "\n",
        "# Compute cluster centroids\n",
        "centroids = kmeans.cluster_centers_\n",
        "\n",
        "\n",
        "# Function to search for GIFs in a particular cluster\n",
        "def search_cluster(query, cluster):\n",
        "    query_embedding = model1.encode([query])[0]\n",
        "    similarities = np.dot(centroids, query_embedding) / (np.linalg.norm(centroids, axis=1) * np.linalg.norm(query_embedding))\n",
        "    closest_cluster_idx = np.argsort(similarities)[-1]\n",
        "    cluster_embeddings = emb1[labels == closest_cluster_idx]\n",
        "    distances = np.dot(cluster_embeddings, query_embedding) / (np.linalg.norm(cluster_embeddings, axis=1) * np.linalg.norm(query_embedding))\n",
        "    indices = np.argsort(distances)[-10:]\n",
        "    return df.loc[labels == closest_cluster_idx].iloc[indices]['url'].tolist()"
      ]
    },
    {
      "cell_type": "code",
      "execution_count": null,
      "metadata": {
        "id": "_dhiKy7ONXFJ"
      },
      "outputs": [],
      "source": [
        "def Enter_query_here(query):\n",
        "    # Generate embeddings for the query\n",
        "    xq = retriever1.encode(query).tolist()\n",
        "    # Compute cosine similarity between query and embeddings vectors and return top 10 URls\n",
        "    xc = index.query(xq, top_k=10,\n",
        "                    include_metadata=True)\n",
        "    results = []\n",
        "    for context in xc['matches']:\n",
        "        url = context['metadata']['url']\n",
        "        results.append(url)\n",
        "    return results"
      ]
    },
    {
      "cell_type": "code",
      "execution_count": null,
      "metadata": {
        "id": "h0qxC8tPQpY6"
      },
      "outputs": [],
      "source": [
        "from IPython.display import HTML\n",
        "\n",
        "def Displayed_query(urls):\n",
        "    figures = []\n",
        "    for url in urls:\n",
        "        figures.append(f'''\n",
        "            <figure style=\"display: inline-block; margin: 10px;\">\n",
        "                <img src=\"{url}\" alt=\"GIF\" style=\"width: 200px; height: 200px;\">\n",
        "            </figure>\n",
        "        ''')\n",
        "    return HTML(data=f'''\n",
        "        <div style=\"display: flex; flex-flow: row wrap; text-align: center;\">\n",
        "        {''.join(figures)}\n",
        "        </div>\n",
        "    ''')\n",
        "\n",
        "\n"
      ]
    },
    {
      "cell_type": "code",
      "execution_count": null,
      "metadata": {
        "id": "FGGowLJxQvh4"
      },
      "outputs": [],
      "source": [
        "gifs = Enter_query_here(\"cat dancing\")\n",
        "Displayed_query(gifs)"
      ]
    },
    {
      "cell_type": "code",
      "execution_count": null,
      "metadata": {
        "id": "IdHs1pQpgY5L"
      },
      "outputs": [],
      "source": [
        "from google.colab import drive\n",
        "drive.mount('/content/drive')\n",
        "\n",
        "from zipfile import ZipFile\n",
        "import os\n",
        "\n",
        "file_paths = []\n",
        "\n",
        "for root,dictionaries,files in os.walk(\"/content/drive/MyDrive/Colab Notebooks/IR Final Project Code.ipynb\"):\n",
        "  for filename in files:\n",
        "    filepath = os.path.join(root, filename)\n",
        "    file_paths.append(filepath)\n",
        "\n",
        "with ZipFile(\"/content/drive/MyDrive/ FinalProjectcode1.zip\", 'w') as zip:\n",
        "    for file in file_paths:\n",
        "      zip.write(file)\n"
      ]
    }
  ],
  "metadata": {
    "colab": {
      "provenance": [],
      "mount_file_id": "1pdnCVMMI0JNPylq3F9dLVI5Blfmn6vnD",
      "authorship_tag": "ABX9TyMKFSGjSHgC+Cq69BX8N8JQ",
      "include_colab_link": true
    },
    "kernelspec": {
      "display_name": "Python 3",
      "name": "python3"
    },
    "language_info": {
      "name": "python"
    }
  },
  "nbformat": 4,
  "nbformat_minor": 0
}